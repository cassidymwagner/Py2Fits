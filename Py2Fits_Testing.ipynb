{
 "cells": [
  {
   "cell_type": "code",
   "execution_count": 1,
   "metadata": {},
   "outputs": [],
   "source": [
    "import numpy as np\n",
    "from matplotlib.pyplot import *\n",
    "%matplotlib inline\n",
    "%load_ext autoreload\n",
    "%autoreload 2\n",
    "import math, scipy\n",
    "import scipy as sp\n",
    "from scipy import signal\n",
    "import astropy.io.fits as F\n",
    "import VersionZeroPointZero as PSS\n",
    "matplotlib.rcParams['figure.figsize'] = (10.0, 8.0)\n",
    "from py2fits.archive import Archive"
   ]
  },
  {
   "cell_type": "code",
   "execution_count": 2,
   "metadata": {},
   "outputs": [],
   "source": [
    "#Setting the filename, can provide full path\n",
    "filename = 'puppi_57754_J2305+3100_0718_0001.fits'"
   ]
  },
  {
   "cell_type": "code",
   "execution_count": 3,
   "metadata": {},
   "outputs": [
    {
     "name": "stdout",
     "output_type": "stream",
     "text": [
      "Loading: puppi_57754_J2305+3100_0718_0001.fits\n",
      "Load time: 2.76 s\n"
     ]
    }
   ],
   "source": [
    "#Creating a class from the input file \n",
    "Fits1=Archive(filename, lowmem=True, prepare=False)"
   ]
  },
  {
   "cell_type": "code",
   "execution_count": 4,
   "metadata": {},
   "outputs": [],
   "source": [
    "#Initializing a signal, pulsar, ISM, and running the simulation\n",
    "S1=PSS.Signal(TotTime=2500,f0=800,Nf=100,bw=1120,Nt=25000,mode='simulate')\n",
    "P1=PSS.Pulsar(S1)\n",
    "I1=PSS.ISM(S1,mode='simulate')\n",
    "I1.finalize_ism()\n",
    "Sim1 = PSS.Simulation(S1,P1,I1)"
   ]
  },
  {
   "cell_type": "code",
   "execution_count": 5,
   "metadata": {
    "collapsed": true
   },
   "outputs": [
    {
     "data": {
      "text/plain": [
       "{'ANT_X': 882589.65,\n",
       " 'ANT_Y': -4924872.32,\n",
       " 'ANT_Z': 3943729.348,\n",
       " 'BACKEND': 'PUPPI',\n",
       " 'BECONFIG': 'N/A',\n",
       " 'BE_DCC': 0,\n",
       " 'BE_DELAY': 0.0,\n",
       " 'BE_PHASE': -1,\n",
       " 'BITPIX': 8,\n",
       " 'BMAJ': 0.0,\n",
       " 'BMIN': 0.0,\n",
       " 'BPA': 0.0,\n",
       " 'CAL_DCYC': 0.0,\n",
       " 'CAL_FREQ': 0.0,\n",
       " 'CAL_MODE': 'OFF',\n",
       " 'CAL_PHS': 0.0,\n",
       " 'CHAN_DM': 0.0,\n",
       " 'COMMENT':   FITS (Flexible Image Transport System) format is defined in 'Astronomy\n",
       "   and Astrophysics', volume 376, page 359; bibcode: 2001A&A...376..359H,\n",
       " 'COORD_MD': 'J2000',\n",
       " 'DATE': '2017-01-01T20:08:41',\n",
       " 'DATE-OBS': '2017-01-01T20:08:38.000',\n",
       " 'DEC': '+31:00:01.8007',\n",
       " 'EQUINOX': 2000.0,\n",
       " 'EXTEND': True,\n",
       " 'FA_REQ': 0.0,\n",
       " 'FD_HAND': -1,\n",
       " 'FD_MODE': 'FA',\n",
       " 'FD_POLN': 'LIN',\n",
       " 'FD_SANG': 45.0,\n",
       " 'FD_XYPH': 0.0,\n",
       " 'FITSTYPE': 'PSRFITS',\n",
       " 'FRONTEND': 'lbw',\n",
       " 'HDRVER': '3.4',\n",
       " 'NAXIS': 0,\n",
       " 'NRCVR': 2,\n",
       " 'OBSBW': -800.0,\n",
       " 'OBSERVER': 'CodyJessup',\n",
       " 'OBSFREQ': 1380.0,\n",
       " 'OBSNCHAN': 2048,\n",
       " 'OBS_MODE': 'SEARCH',\n",
       " 'PROJID': 'p3077',\n",
       " 'RA': '23:05:58.3239',\n",
       " 'SCANLEN': 10.0,\n",
       " 'SIMPLE': True,\n",
       " 'SRC_NAME': 'J2305+3100',\n",
       " 'STP_CRD1': '23:05:58.3239',\n",
       " 'STP_CRD2': '+31:00:01.8007',\n",
       " 'STT_CRD1': '23:05:58.3239',\n",
       " 'STT_CRD2': '+31:00:01.8007',\n",
       " 'STT_IMJD': 57754,\n",
       " 'STT_LST': 77758.0,\n",
       " 'STT_OFFS': 0.99999999997226,\n",
       " 'STT_SMJD': 72517,\n",
       " 'TCYCLE': 0.0,\n",
       " 'TELESCOP': 'Arecibo',\n",
       " 'TRK_MODE': 'TRACK'}"
      ]
     },
     "execution_count": 5,
     "metadata": {},
     "output_type": "execute_result"
    }
   ],
   "source": [
    "#Check primary header before anything is changed\n",
    "Fits1.primaryheader"
   ]
  },
  {
   "cell_type": "code",
   "execution_count": 6,
   "metadata": {},
   "outputs": [],
   "source": [
    "def setPars(header,original_pars,changing_pars):\n",
    "    '''\n",
    "    Sets parameters in the template PSRFITS file\n",
    "    to parameters pulled from the signal metadata.\n",
    "    Can use the primary header or secondary header.\n",
    "    \n",
    "    Parameters:\n",
    "    ==========\n",
    "    \n",
    "    header: header dictionary to change\n",
    "    \n",
    "    original_pars: list of the keys in the original\n",
    "                   header dictionary to change\n",
    "        Example List: original_pars = ['OBSBW','OBSFREQ']\n",
    "                      corresponding to the bandwidth and\n",
    "                      central frequency of the observation\n",
    "                      respectively.\n",
    "                      \n",
    "    changing_pars: list of the keys in the signal \n",
    "                   metadata dictionary that represent\n",
    "                   the counterpart to the key of the\n",
    "                   original header dictionary\n",
    "        Example List: changing_pars = ['bw','f0']\n",
    "                      corresponding to the bandwidth and\n",
    "                      central frequency of the observation\n",
    "                      respectively.\n",
    "    \n",
    "    Note: make sure the lists read in match in parameters \n",
    "          and are the correct type.\n",
    "    \n",
    "    TODO: Add errors if the objects in the list don't match\n",
    "          in type, ie. if someone wants to change a float to\n",
    "          a string.\n",
    "          \n",
    "    TODO: Instead of using S1, use signal_object when this goes\n",
    "          into archive.py?\n",
    "    '''\n",
    "    for i,j in zip(original_pars,changing_pars):\n",
    "        try:\n",
    "            header[i] = S1.MetaData.__dict__[j]\n",
    "        except:\n",
    "            pass"
   ]
  },
  {
   "cell_type": "code",
   "execution_count": 7,
   "metadata": {},
   "outputs": [],
   "source": [
    "#Creating the lists to read into setPars to change the observation\n",
    "#bandwidth and central frequency\n",
    "PSS_Par =['bw','f0']\n",
    "PSRFITS_Par = ['OBSBW','OBSFREQ']"
   ]
  },
  {
   "cell_type": "code",
   "execution_count": 8,
   "metadata": {
    "collapsed": true
   },
   "outputs": [],
   "source": [
    "#Running setPars\n",
    "setPars(Fits1.primaryheader,PSRFITS_Par,PSS_Par)"
   ]
  },
  {
   "cell_type": "code",
   "execution_count": 9,
   "metadata": {
    "collapsed": true
   },
   "outputs": [
    {
     "data": {
      "text/plain": [
       "{'ANT_X': 882589.65,\n",
       " 'ANT_Y': -4924872.32,\n",
       " 'ANT_Z': 3943729.348,\n",
       " 'BACKEND': 'PUPPI',\n",
       " 'BECONFIG': 'N/A',\n",
       " 'BE_DCC': 0,\n",
       " 'BE_DELAY': 0.0,\n",
       " 'BE_PHASE': -1,\n",
       " 'BITPIX': 8,\n",
       " 'BMAJ': 0.0,\n",
       " 'BMIN': 0.0,\n",
       " 'BPA': 0.0,\n",
       " 'CAL_DCYC': 0.0,\n",
       " 'CAL_FREQ': 0.0,\n",
       " 'CAL_MODE': 'OFF',\n",
       " 'CAL_PHS': 0.0,\n",
       " 'CHAN_DM': 0.0,\n",
       " 'COMMENT':   FITS (Flexible Image Transport System) format is defined in 'Astronomy\n",
       "   and Astrophysics', volume 376, page 359; bibcode: 2001A&A...376..359H,\n",
       " 'COORD_MD': 'J2000',\n",
       " 'DATE': '2017-01-01T20:08:41',\n",
       " 'DATE-OBS': '2017-01-01T20:08:38.000',\n",
       " 'DEC': '+31:00:01.8007',\n",
       " 'EQUINOX': 2000.0,\n",
       " 'EXTEND': True,\n",
       " 'FA_REQ': 0.0,\n",
       " 'FD_HAND': -1,\n",
       " 'FD_MODE': 'FA',\n",
       " 'FD_POLN': 'LIN',\n",
       " 'FD_SANG': 45.0,\n",
       " 'FD_XYPH': 0.0,\n",
       " 'FITSTYPE': 'PSRFITS',\n",
       " 'FRONTEND': 'lbw',\n",
       " 'HDRVER': '3.4',\n",
       " 'NAXIS': 0,\n",
       " 'NRCVR': 2,\n",
       " 'OBSBW': 1120,\n",
       " 'OBSERVER': 'CodyJessup',\n",
       " 'OBSFREQ': 800,\n",
       " 'OBSNCHAN': 2048,\n",
       " 'OBS_MODE': 'SEARCH',\n",
       " 'PROJID': 'p3077',\n",
       " 'RA': '23:05:58.3239',\n",
       " 'SCANLEN': 10.0,\n",
       " 'SIMPLE': True,\n",
       " 'SRC_NAME': 'J2305+3100',\n",
       " 'STP_CRD1': '23:05:58.3239',\n",
       " 'STP_CRD2': '+31:00:01.8007',\n",
       " 'STT_CRD1': '23:05:58.3239',\n",
       " 'STT_CRD2': '+31:00:01.8007',\n",
       " 'STT_IMJD': 57754,\n",
       " 'STT_LST': 77758.0,\n",
       " 'STT_OFFS': 0.99999999997226,\n",
       " 'STT_SMJD': 72517,\n",
       " 'TCYCLE': 0.0,\n",
       " 'TELESCOP': 'Arecibo',\n",
       " 'TRK_MODE': 'TRACK'}"
      ]
     },
     "execution_count": 9,
     "metadata": {},
     "output_type": "execute_result"
    }
   ],
   "source": [
    "#Check primary header after things are changed\n",
    "#Look specifically at OBSBW and OBSFREQ in this example\n",
    "Fits1.primaryheader"
   ]
  },
  {
   "cell_type": "code",
   "execution_count": 10,
   "metadata": {},
   "outputs": [],
   "source": [
    "#Manually changing the 'COMMENT' field of the template PSRFITS file\n",
    "#because currently there is an error with the way the comment\n",
    "#is written. Possibly a TODO to fix this.\n",
    "Fits1.primaryheader['COMMENT']='NONE'"
   ]
  },
  {
   "cell_type": "code",
   "execution_count": 11,
   "metadata": {
    "collapsed": true
   },
   "outputs": [],
   "source": [
    "#Saving the changes to a new PSRFITS file, including the unchanged\n",
    "#data from the input file.\n",
    "Fits1.save('Template_PSRFITS.fits')"
   ]
  },
  {
   "cell_type": "code",
   "execution_count": 12,
   "metadata": {
    "collapsed": true
   },
   "outputs": [
    {
     "data": {
      "text/plain": [
       "SIMPLE  =                    T / conforms to FITS standard                      \n",
       "BITPIX  =                    8 / array data type                                \n",
       "NAXIS   =                    0 / number of array dimensions                     \n",
       "EXTEND  =                    T                                                  \n",
       "HDRVER  = '3.4     '                                                            \n",
       "FITSTYPE= 'PSRFITS '                                                            \n",
       "DATE    = '2017-01-01T20:08:41'                                                 \n",
       "OBSERVER= 'CodyJessup'                                                          \n",
       "PROJID  = 'p3077   '                                                            \n",
       "TELESCOP= 'Arecibo '                                                            \n",
       "ANT_X   =            882589.65                                                  \n",
       "ANT_Y   =          -4924872.32                                                  \n",
       "ANT_Z   =          3943729.348                                                  \n",
       "FRONTEND= 'lbw     '                                                            \n",
       "NRCVR   =                    2                                                  \n",
       "FD_POLN = 'LIN     '                                                            \n",
       "FD_HAND =                   -1                                                  \n",
       "FD_SANG =                 45.0                                                  \n",
       "FD_XYPH =                  0.0                                                  \n",
       "BACKEND = 'PUPPI   '                                                            \n",
       "BECONFIG= 'N/A     '                                                            \n",
       "BE_PHASE=                   -1                                                  \n",
       "BE_DCC  =                    0                                                  \n",
       "BE_DELAY=                  0.0                                                  \n",
       "TCYCLE  =                  0.0                                                  \n",
       "OBS_MODE= 'SEARCH  '                                                            \n",
       "DATE-OBS= '2017-01-01T20:08:38.000'                                             \n",
       "OBSFREQ =                  800                                                  \n",
       "OBSBW   =                 1120                                                  \n",
       "OBSNCHAN=                 2048                                                  \n",
       "CHAN_DM =                  0.0                                                  \n",
       "SRC_NAME= 'J2305+3100'                                                          \n",
       "COORD_MD= 'J2000   '                                                            \n",
       "EQUINOX =               2000.0                                                  \n",
       "RA      = '23:05:58.3239'                                                       \n",
       "DEC     = '+31:00:01.8007'                                                      \n",
       "BMAJ    =                  0.0                                                  \n",
       "BMIN    =                  0.0                                                  \n",
       "BPA     =                  0.0                                                  \n",
       "STT_CRD1= '23:05:58.3239'                                                       \n",
       "STT_CRD2= '+31:00:01.8007'                                                      \n",
       "TRK_MODE= 'TRACK   '                                                            \n",
       "STP_CRD1= '23:05:58.3239'                                                       \n",
       "STP_CRD2= '+31:00:01.8007'                                                      \n",
       "SCANLEN =                 10.0                                                  \n",
       "FD_MODE = 'FA      '                                                            \n",
       "FA_REQ  =                  0.0                                                  \n",
       "CAL_MODE= 'OFF     '                                                            \n",
       "CAL_FREQ=                  0.0                                                  \n",
       "CAL_DCYC=                  0.0                                                  \n",
       "CAL_PHS =                  0.0                                                  \n",
       "STT_IMJD=                57754                                                  \n",
       "STT_SMJD=                72517                                                  \n",
       "STT_OFFS=     0.99999999997226                                                  \n",
       "STT_LST =              77758.0                                                  \n",
       "COMMENT NONE                                                                    \n",
       "COMMENT NONE                                                                    "
      ]
     },
     "execution_count": 12,
     "metadata": {},
     "output_type": "execute_result"
    }
   ],
   "source": [
    "#Opening the newly created files to view the changes\n",
    "hdulist=F.open('Template_PSRFITS.fits')\n",
    "hdulist[0].header"
   ]
  }
 ],
 "metadata": {
  "anaconda-cloud": {},
  "kernelspec": {
   "display_name": "Python 3",
   "language": "python",
   "name": "python3"
  },
  "language_info": {
   "codemirror_mode": {
    "name": "ipython",
    "version": 3
   },
   "file_extension": ".py",
   "mimetype": "text/x-python",
   "name": "python",
   "nbconvert_exporter": "python",
   "pygments_lexer": "ipython3",
   "version": "3.6.1"
  }
 },
 "nbformat": 4,
 "nbformat_minor": 1
}
